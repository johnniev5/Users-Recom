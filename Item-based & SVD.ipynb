{
 "cells": [
  {
   "cell_type": "code",
   "execution_count": 1,
   "id": "a4e78756",
   "metadata": {
    "ExecuteTime": {
     "end_time": "2021-11-19T11:23:56.045589Z",
     "start_time": "2021-11-19T11:23:55.270069Z"
    }
   },
   "outputs": [],
   "source": [
    "import json\n",
    "import random\n",
    "import numpy as np\n",
    "import pandas as pd\n",
    "from sklearn.model_selection import train_test_split"
   ]
  },
  {
   "cell_type": "code",
   "execution_count": 2,
   "id": "d4504d9d",
   "metadata": {
    "ExecuteTime": {
     "end_time": "2021-11-19T11:24:15.633532Z",
     "start_time": "2021-11-19T11:23:56.046841Z"
    }
   },
   "outputs": [],
   "source": [
    "users = pd.read_csv('users.csv')\n",
    "follows = pd.read_csv('follows.csv')\n",
    "# activate = pd.read_csv('activate.csv')\n",
    "follows.drop_duplicates(inplace=True)\n",
    "follows = follows.sample(500000)"
   ]
  },
  {
   "cell_type": "markdown",
   "id": "74ff1452",
   "metadata": {
    "ExecuteTime": {
     "end_time": "2021-11-08T10:16:47.556591Z",
     "start_time": "2021-11-08T10:16:47.550913Z"
    }
   },
   "source": [
    "解决用户等启动问题之一: 基于排行榜的推荐, 诸如:\n",
    "\n",
    "1. 用户是否是大v；\n",
    "2. 用户被关注量排行, 或被关注量与关注量之比排行；\n",
    "3. 用户是否被举报, 被举报的次数；\n",
    "4. 用户是否在黑名单里, 被拉黑名单的次数；\n",
    "5. 用户每天的登录次数, 及频率；\n",
    "6. 用户每天的发帖, 点赞, 转发, 评论的次数和频率；\n",
    "7. 用户帖子, 评论被点赞, 转发和评论的次数和频率, 及大v用户的数量和占比；\n",
    "\n",
    "对于冷启动的问题, 并不局限于以上思路....\n",
    "\n",
    "用户的浏览行为, 比如:\n",
    "\n",
    "1. 用户看了, 点赞了, 转发, 评论某个用户；\n",
    "2. 关注过该用户的还关注了；"
   ]
  },
  {
   "cell_type": "markdown",
   "id": "3a7464a3",
   "metadata": {},
   "source": [
    "这里以仅有的数据, 用户关注量和被关注量数据为例"
   ]
  },
  {
   "cell_type": "code",
   "execution_count": 3,
   "id": "e811d4fd",
   "metadata": {
    "ExecuteTime": {
     "end_time": "2021-11-19T11:24:15.637718Z",
     "start_time": "2021-11-19T11:24:15.635226Z"
    }
   },
   "outputs": [],
   "source": [
    "def get_flg(val):\n",
    "    try:\n",
    "        return json.loads(val)['flg']\n",
    "    except:\n",
    "        pass"
   ]
  },
  {
   "cell_type": "code",
   "execution_count": 4,
   "id": "7a127513",
   "metadata": {
    "ExecuteTime": {
     "end_time": "2021-11-19T11:24:15.650646Z",
     "start_time": "2021-11-19T11:24:15.639116Z"
    }
   },
   "outputs": [],
   "source": [
    "def get_flw(val):\n",
    "    try:\n",
    "        return json.loads(val)['flw']\n",
    "    except:\n",
    "        pass"
   ]
  },
  {
   "cell_type": "markdown",
   "id": "b9993ffc",
   "metadata": {},
   "source": [
    "先过滤掉很少关注别人, 或很少被关注的用户, 过滤掉不活跃的用户:\n",
    "    \n",
    "这里涉及到如何定义不活跃的用户, 或者活跃的用户:\n",
    "1. 多少天内连续登录, 每天登录频率, 每天发帖, 点赞, 转发, 评论的次数和频率, 连续几天内的发帖, 点赞, 转发和频率的总次数和频率等\n",
    "2. 一周内至少登录4次, 发5个帖子?"
   ]
  },
  {
   "cell_type": "code",
   "execution_count": 5,
   "id": "13482ec8",
   "metadata": {
    "ExecuteTime": {
     "end_time": "2021-11-19T11:24:15.662968Z",
     "start_time": "2021-11-19T11:24:15.651533Z"
    }
   },
   "outputs": [],
   "source": [
    "# users = users[users['key'].str.contains('|'.join(activate['uid']))]"
   ]
  },
  {
   "cell_type": "code",
   "execution_count": 6,
   "id": "0664eb96",
   "metadata": {
    "ExecuteTime": {
     "end_time": "2021-11-19T11:24:15.874353Z",
     "start_time": "2021-11-19T11:24:15.663983Z"
    }
   },
   "outputs": [],
   "source": [
    "# users['flg'] = users['val'].apply(get_flg)\n",
    "# users['flw'] = users['val'].apply(get_flw)\n",
    "users['flg'].fillna(0, inplace=True)\n",
    "users['flw'].fillna(0, inplace=True)\n",
    "users['flg'] = users['flg'].astype(int)\n",
    "users['flw'] = users['flw'].astype(int)\n",
    "users['flw'] = abs(users['flw'])\n",
    "users.loc[users['flg'] != 0, 'score'] = users.loc[users['flg'] != 0, 'flw'] / users.loc[users['flg'] != 0, 'flg']\n",
    "users['score'].fillna(0, inplace=True)"
   ]
  },
  {
   "cell_type": "code",
   "execution_count": 7,
   "id": "f4dc9bbb",
   "metadata": {
    "ExecuteTime": {
     "end_time": "2021-11-19T11:24:16.573414Z",
     "start_time": "2021-11-19T11:24:15.875262Z"
    }
   },
   "outputs": [
    {
     "data": {
      "text/html": [
       "<div>\n",
       "<style scoped>\n",
       "    .dataframe tbody tr th:only-of-type {\n",
       "        vertical-align: middle;\n",
       "    }\n",
       "\n",
       "    .dataframe tbody tr th {\n",
       "        vertical-align: top;\n",
       "    }\n",
       "\n",
       "    .dataframe thead th {\n",
       "        text-align: right;\n",
       "    }\n",
       "</style>\n",
       "<table border=\"1\" class=\"dataframe\">\n",
       "  <thead>\n",
       "    <tr style=\"text-align: right;\">\n",
       "      <th></th>\n",
       "      <th>uname</th>\n",
       "      <th>nickname</th>\n",
       "      <th>ousername</th>\n",
       "      <th>lang</th>\n",
       "      <th>status</th>\n",
       "      <th>cm</th>\n",
       "      <th>flw</th>\n",
       "      <th>flg</th>\n",
       "      <th>infl</th>\n",
       "      <th>ico</th>\n",
       "      <th>shbpst</th>\n",
       "      <th>lkbpst</th>\n",
       "      <th>score</th>\n",
       "    </tr>\n",
       "  </thead>\n",
       "  <tbody>\n",
       "    <tr>\n",
       "      <th>1237563</th>\n",
       "      <td>mtg4america</td>\n",
       "      <td>Marjorie Taylor Greene</td>\n",
       "      <td>MTG4America</td>\n",
       "      <td>en</td>\n",
       "      <td>a</td>\n",
       "      <td>NaN</td>\n",
       "      <td>2108058798</td>\n",
       "      <td>319962</td>\n",
       "      <td>1.0</td>\n",
       "      <td>group47/getter/2021/07/03/15/92afd860-4202-bac...</td>\n",
       "      <td>337646.0</td>\n",
       "      <td>NaN</td>\n",
       "      <td>6.588466e+03</td>\n",
       "    </tr>\n",
       "    <tr>\n",
       "      <th>2475649</th>\n",
       "      <td>realstewpeters</td>\n",
       "      <td>Stew Peters</td>\n",
       "      <td>RealStewPeters</td>\n",
       "      <td>en</td>\n",
       "      <td>a</td>\n",
       "      <td>NaN</td>\n",
       "      <td>2096365366</td>\n",
       "      <td>10628</td>\n",
       "      <td>1.0</td>\n",
       "      <td>group18/getter/2021/11/07/02/46ef6db8-74c4-515...</td>\n",
       "      <td>167956.0</td>\n",
       "      <td>NaN</td>\n",
       "      <td>1.972493e+05</td>\n",
       "    </tr>\n",
       "    <tr>\n",
       "      <th>2475937</th>\n",
       "      <td>biakicis</td>\n",
       "      <td>Bia Kicis</td>\n",
       "      <td>Biakicis</td>\n",
       "      <td>en</td>\n",
       "      <td>a</td>\n",
       "      <td>NaN</td>\n",
       "      <td>2077271705</td>\n",
       "      <td>4</td>\n",
       "      <td>1.0</td>\n",
       "      <td>group14/tw/2021/09/06/20/de8221f9-a843-7f0c-b2...</td>\n",
       "      <td>23275.0</td>\n",
       "      <td>NaN</td>\n",
       "      <td>5.193179e+08</td>\n",
       "    </tr>\n",
       "    <tr>\n",
       "      <th>1237456</th>\n",
       "      <td>rudygiuliani</td>\n",
       "      <td>Rudy W. Giuliani</td>\n",
       "      <td>RudyGiuliani</td>\n",
       "      <td>en</td>\n",
       "      <td>a</td>\n",
       "      <td>NaN</td>\n",
       "      <td>2064195887</td>\n",
       "      <td>78628</td>\n",
       "      <td>1.0</td>\n",
       "      <td>group1/tw/2021/07/07/12/05116288-96b7-7af3-9f0...</td>\n",
       "      <td>48404.0</td>\n",
       "      <td>NaN</td>\n",
       "      <td>2.625268e+04</td>\n",
       "    </tr>\n",
       "    <tr>\n",
       "      <th>1237600</th>\n",
       "      <td>zerohedge</td>\n",
       "      <td>ZeroHedge</td>\n",
       "      <td>zerohedge</td>\n",
       "      <td>en</td>\n",
       "      <td>a</td>\n",
       "      <td>NaN</td>\n",
       "      <td>1963155208</td>\n",
       "      <td>36838</td>\n",
       "      <td>1.0</td>\n",
       "      <td>group44/tw/2021/08/18/19/b2f6a473-9525-fd79-95...</td>\n",
       "      <td>35787.0</td>\n",
       "      <td>NaN</td>\n",
       "      <td>5.329158e+04</td>\n",
       "    </tr>\n",
       "    <tr>\n",
       "      <th>...</th>\n",
       "      <td>...</td>\n",
       "      <td>...</td>\n",
       "      <td>...</td>\n",
       "      <td>...</td>\n",
       "      <td>...</td>\n",
       "      <td>...</td>\n",
       "      <td>...</td>\n",
       "      <td>...</td>\n",
       "      <td>...</td>\n",
       "      <td>...</td>\n",
       "      <td>...</td>\n",
       "      <td>...</td>\n",
       "      <td>...</td>\n",
       "    </tr>\n",
       "    <tr>\n",
       "      <th>985709</th>\n",
       "      <td>mariakyturner</td>\n",
       "      <td>mariakyturner</td>\n",
       "      <td>mariakyTurner</td>\n",
       "      <td>en_us</td>\n",
       "      <td>NaN</td>\n",
       "      <td>NaN</td>\n",
       "      <td>0</td>\n",
       "      <td>0</td>\n",
       "      <td>NaN</td>\n",
       "      <td>group49/origin/2021/09/12/17/10456b30-12bb-a94...</td>\n",
       "      <td>NaN</td>\n",
       "      <td>NaN</td>\n",
       "      <td>0.000000e+00</td>\n",
       "    </tr>\n",
       "    <tr>\n",
       "      <th>985708</th>\n",
       "      <td>jennifer9iadams</td>\n",
       "      <td>jennifer9iadams</td>\n",
       "      <td>jennifer9iadams</td>\n",
       "      <td>en_us</td>\n",
       "      <td>NaN</td>\n",
       "      <td>NaN</td>\n",
       "      <td>0</td>\n",
       "      <td>0</td>\n",
       "      <td>NaN</td>\n",
       "      <td>group22/origin/2021/09/12/17/e93a6209-f2bd-181...</td>\n",
       "      <td>NaN</td>\n",
       "      <td>NaN</td>\n",
       "      <td>0.000000e+00</td>\n",
       "    </tr>\n",
       "    <tr>\n",
       "      <th>985707</th>\n",
       "      <td>d6mariaturner</td>\n",
       "      <td>d6Mariaturner</td>\n",
       "      <td>d6Mariaturner</td>\n",
       "      <td>en_us</td>\n",
       "      <td>NaN</td>\n",
       "      <td>NaN</td>\n",
       "      <td>0</td>\n",
       "      <td>0</td>\n",
       "      <td>NaN</td>\n",
       "      <td>group38/origin/2021/09/12/17/c81145b8-3e11-1e8...</td>\n",
       "      <td>NaN</td>\n",
       "      <td>NaN</td>\n",
       "      <td>0.000000e+00</td>\n",
       "    </tr>\n",
       "    <tr>\n",
       "      <th>985706</th>\n",
       "      <td>donna17jones</td>\n",
       "      <td>donna17jones</td>\n",
       "      <td>donna17jones</td>\n",
       "      <td>en_us</td>\n",
       "      <td>NaN</td>\n",
       "      <td>NaN</td>\n",
       "      <td>0</td>\n",
       "      <td>0</td>\n",
       "      <td>NaN</td>\n",
       "      <td>group2/origin/2021/09/13/16/475d71cb-6416-19aa...</td>\n",
       "      <td>NaN</td>\n",
       "      <td>NaN</td>\n",
       "      <td>0.000000e+00</td>\n",
       "    </tr>\n",
       "    <tr>\n",
       "      <th>1238026</th>\n",
       "      <td>wbennett</td>\n",
       "      <td>wbennett</td>\n",
       "      <td>wbennett</td>\n",
       "      <td>en</td>\n",
       "      <td>a</td>\n",
       "      <td>NaN</td>\n",
       "      <td>0</td>\n",
       "      <td>0</td>\n",
       "      <td>NaN</td>\n",
       "      <td>group3/getter/2021/10/12/02/30/05ae0be1-fe59-3...</td>\n",
       "      <td>NaN</td>\n",
       "      <td>NaN</td>\n",
       "      <td>0.000000e+00</td>\n",
       "    </tr>\n",
       "  </tbody>\n",
       "</table>\n",
       "<p>2476053 rows × 13 columns</p>\n",
       "</div>"
      ],
      "text/plain": [
       "                   uname                nickname        ousername   lang  \\\n",
       "1237563      mtg4america  Marjorie Taylor Greene      MTG4America     en   \n",
       "2475649   realstewpeters             Stew Peters   RealStewPeters     en   \n",
       "2475937         biakicis               Bia Kicis         Biakicis     en   \n",
       "1237456     rudygiuliani        Rudy W. Giuliani     RudyGiuliani     en   \n",
       "1237600        zerohedge               ZeroHedge        zerohedge     en   \n",
       "...                  ...                     ...              ...    ...   \n",
       "985709     mariakyturner           mariakyturner    mariakyTurner  en_us   \n",
       "985708   jennifer9iadams         jennifer9iadams  jennifer9iadams  en_us   \n",
       "985707     d6mariaturner           d6Mariaturner    d6Mariaturner  en_us   \n",
       "985706      donna17jones            donna17jones     donna17jones  en_us   \n",
       "1238026         wbennett                wbennett         wbennett     en   \n",
       "\n",
       "        status  cm         flw     flg  infl  \\\n",
       "1237563      a NaN  2108058798  319962   1.0   \n",
       "2475649      a NaN  2096365366   10628   1.0   \n",
       "2475937      a NaN  2077271705       4   1.0   \n",
       "1237456      a NaN  2064195887   78628   1.0   \n",
       "1237600      a NaN  1963155208   36838   1.0   \n",
       "...        ...  ..         ...     ...   ...   \n",
       "985709     NaN NaN           0       0   NaN   \n",
       "985708     NaN NaN           0       0   NaN   \n",
       "985707     NaN NaN           0       0   NaN   \n",
       "985706     NaN NaN           0       0   NaN   \n",
       "1238026      a NaN           0       0   NaN   \n",
       "\n",
       "                                                       ico    shbpst  lkbpst  \\\n",
       "1237563  group47/getter/2021/07/03/15/92afd860-4202-bac...  337646.0     NaN   \n",
       "2475649  group18/getter/2021/11/07/02/46ef6db8-74c4-515...  167956.0     NaN   \n",
       "2475937  group14/tw/2021/09/06/20/de8221f9-a843-7f0c-b2...   23275.0     NaN   \n",
       "1237456  group1/tw/2021/07/07/12/05116288-96b7-7af3-9f0...   48404.0     NaN   \n",
       "1237600  group44/tw/2021/08/18/19/b2f6a473-9525-fd79-95...   35787.0     NaN   \n",
       "...                                                    ...       ...     ...   \n",
       "985709   group49/origin/2021/09/12/17/10456b30-12bb-a94...       NaN     NaN   \n",
       "985708   group22/origin/2021/09/12/17/e93a6209-f2bd-181...       NaN     NaN   \n",
       "985707   group38/origin/2021/09/12/17/c81145b8-3e11-1e8...       NaN     NaN   \n",
       "985706   group2/origin/2021/09/13/16/475d71cb-6416-19aa...       NaN     NaN   \n",
       "1238026  group3/getter/2021/10/12/02/30/05ae0be1-fe59-3...       NaN     NaN   \n",
       "\n",
       "                score  \n",
       "1237563  6.588466e+03  \n",
       "2475649  1.972493e+05  \n",
       "2475937  5.193179e+08  \n",
       "1237456  2.625268e+04  \n",
       "1237600  5.329158e+04  \n",
       "...               ...  \n",
       "985709   0.000000e+00  \n",
       "985708   0.000000e+00  \n",
       "985707   0.000000e+00  \n",
       "985706   0.000000e+00  \n",
       "1238026  0.000000e+00  \n",
       "\n",
       "[2476053 rows x 13 columns]"
      ]
     },
     "execution_count": 7,
     "metadata": {},
     "output_type": "execute_result"
    }
   ],
   "source": [
    "users.sort_values('flw', ascending=False)"
   ]
  },
  {
   "cell_type": "code",
   "execution_count": 8,
   "id": "234dda9f",
   "metadata": {
    "ExecuteTime": {
     "end_time": "2021-11-19T11:24:17.667288Z",
     "start_time": "2021-11-19T11:24:16.574433Z"
    }
   },
   "outputs": [],
   "source": [
    "users.sort_values('score', ascending=False, inplace=True)"
   ]
  },
  {
   "cell_type": "code",
   "execution_count": 9,
   "id": "ebcd00d8",
   "metadata": {
    "ExecuteTime": {
     "end_time": "2021-11-19T11:24:17.672979Z",
     "start_time": "2021-11-19T11:24:17.668639Z"
    }
   },
   "outputs": [],
   "source": [
    "users['rank'] = range(1, len(users) + 1)"
   ]
  },
  {
   "cell_type": "code",
   "execution_count": 10,
   "id": "38933fdb",
   "metadata": {
    "ExecuteTime": {
     "end_time": "2021-11-19T11:24:17.693508Z",
     "start_time": "2021-11-19T11:24:17.674928Z"
    }
   },
   "outputs": [
    {
     "data": {
      "text/html": [
       "<div>\n",
       "<style scoped>\n",
       "    .dataframe tbody tr th:only-of-type {\n",
       "        vertical-align: middle;\n",
       "    }\n",
       "\n",
       "    .dataframe tbody tr th {\n",
       "        vertical-align: top;\n",
       "    }\n",
       "\n",
       "    .dataframe thead th {\n",
       "        text-align: right;\n",
       "    }\n",
       "</style>\n",
       "<table border=\"1\" class=\"dataframe\">\n",
       "  <thead>\n",
       "    <tr style=\"text-align: right;\">\n",
       "      <th></th>\n",
       "      <th>uname</th>\n",
       "      <th>nickname</th>\n",
       "      <th>ousername</th>\n",
       "      <th>lang</th>\n",
       "      <th>status</th>\n",
       "      <th>cm</th>\n",
       "      <th>flw</th>\n",
       "      <th>flg</th>\n",
       "      <th>infl</th>\n",
       "      <th>ico</th>\n",
       "      <th>shbpst</th>\n",
       "      <th>lkbpst</th>\n",
       "      <th>score</th>\n",
       "      <th>rank</th>\n",
       "    </tr>\n",
       "  </thead>\n",
       "  <tbody>\n",
       "    <tr>\n",
       "      <th>1237588</th>\n",
       "      <td>julie_kelly</td>\n",
       "      <td>julie_kelly</td>\n",
       "      <td>julie_kelly</td>\n",
       "      <td>en</td>\n",
       "      <td>a</td>\n",
       "      <td>NaN</td>\n",
       "      <td>756000330</td>\n",
       "      <td>1</td>\n",
       "      <td>1.0</td>\n",
       "      <td>group35/getter/2021/08/18/21/4c90e89b-11a3-059...</td>\n",
       "      <td>1137.0</td>\n",
       "      <td>NaN</td>\n",
       "      <td>7.560003e+08</td>\n",
       "      <td>1</td>\n",
       "    </tr>\n",
       "    <tr>\n",
       "      <th>2475887</th>\n",
       "      <td>kristinoem</td>\n",
       "      <td>Kristi Noem</td>\n",
       "      <td>KristiNoem</td>\n",
       "      <td>en</td>\n",
       "      <td>a</td>\n",
       "      <td>NaN</td>\n",
       "      <td>1811729701</td>\n",
       "      <td>3</td>\n",
       "      <td>1.0</td>\n",
       "      <td>group38/tw/2021/08/23/01/282d5e81-5a8f-af97-7e...</td>\n",
       "      <td>3316.0</td>\n",
       "      <td>NaN</td>\n",
       "      <td>6.039099e+08</td>\n",
       "      <td>2</td>\n",
       "    </tr>\n",
       "    <tr>\n",
       "      <th>2475937</th>\n",
       "      <td>biakicis</td>\n",
       "      <td>Bia Kicis</td>\n",
       "      <td>Biakicis</td>\n",
       "      <td>en</td>\n",
       "      <td>a</td>\n",
       "      <td>NaN</td>\n",
       "      <td>2077271705</td>\n",
       "      <td>4</td>\n",
       "      <td>1.0</td>\n",
       "      <td>group14/tw/2021/09/06/20/de8221f9-a843-7f0c-b2...</td>\n",
       "      <td>23275.0</td>\n",
       "      <td>NaN</td>\n",
       "      <td>5.193179e+08</td>\n",
       "      <td>3</td>\n",
       "    </tr>\n",
       "    <tr>\n",
       "      <th>1237543</th>\n",
       "      <td>azaudit</td>\n",
       "      <td>Arizona Audit</td>\n",
       "      <td>AZAudit</td>\n",
       "      <td>en</td>\n",
       "      <td>qs</td>\n",
       "      <td>NaN</td>\n",
       "      <td>324731303</td>\n",
       "      <td>1</td>\n",
       "      <td>1.0</td>\n",
       "      <td>group16/origin/2021/07/29/14/aaf2fa0f-015a-6a8...</td>\n",
       "      <td>1241.0</td>\n",
       "      <td>NaN</td>\n",
       "      <td>3.247313e+08</td>\n",
       "      <td>4</td>\n",
       "    </tr>\n",
       "    <tr>\n",
       "      <th>1237429</th>\n",
       "      <td>cristinalaila</td>\n",
       "      <td>CristinaLaila</td>\n",
       "      <td>CristinaLaila</td>\n",
       "      <td>en</td>\n",
       "      <td>qs</td>\n",
       "      <td>NaN</td>\n",
       "      <td>241212798</td>\n",
       "      <td>1</td>\n",
       "      <td>1.0</td>\n",
       "      <td>group37/origin/2021/08/30/17/ae2f4c7b-a906-28a...</td>\n",
       "      <td>1079.0</td>\n",
       "      <td>NaN</td>\n",
       "      <td>2.412128e+08</td>\n",
       "      <td>5</td>\n",
       "    </tr>\n",
       "    <tr>\n",
       "      <th>...</th>\n",
       "      <td>...</td>\n",
       "      <td>...</td>\n",
       "      <td>...</td>\n",
       "      <td>...</td>\n",
       "      <td>...</td>\n",
       "      <td>...</td>\n",
       "      <td>...</td>\n",
       "      <td>...</td>\n",
       "      <td>...</td>\n",
       "      <td>...</td>\n",
       "      <td>...</td>\n",
       "      <td>...</td>\n",
       "      <td>...</td>\n",
       "      <td>...</td>\n",
       "    </tr>\n",
       "    <tr>\n",
       "      <th>933727</th>\n",
       "      <td>th8003th</td>\n",
       "      <td>th8003th</td>\n",
       "      <td>th8003th</td>\n",
       "      <td>en</td>\n",
       "      <td>a</td>\n",
       "      <td>NaN</td>\n",
       "      <td>0</td>\n",
       "      <td>0</td>\n",
       "      <td>NaN</td>\n",
       "      <td>NaN</td>\n",
       "      <td>NaN</td>\n",
       "      <td>NaN</td>\n",
       "      <td>0.000000e+00</td>\n",
       "      <td>2476049</td>\n",
       "    </tr>\n",
       "    <tr>\n",
       "      <th>933724</th>\n",
       "      <td>freezed</td>\n",
       "      <td>freezed</td>\n",
       "      <td>freezed</td>\n",
       "      <td>en</td>\n",
       "      <td>qs</td>\n",
       "      <td>NaN</td>\n",
       "      <td>0</td>\n",
       "      <td>0</td>\n",
       "      <td>NaN</td>\n",
       "      <td>NaN</td>\n",
       "      <td>NaN</td>\n",
       "      <td>NaN</td>\n",
       "      <td>0.000000e+00</td>\n",
       "      <td>2476050</td>\n",
       "    </tr>\n",
       "    <tr>\n",
       "      <th>933723</th>\n",
       "      <td>kporterg</td>\n",
       "      <td>kporterg</td>\n",
       "      <td>kporterg</td>\n",
       "      <td>en</td>\n",
       "      <td>qs</td>\n",
       "      <td>NaN</td>\n",
       "      <td>0</td>\n",
       "      <td>0</td>\n",
       "      <td>NaN</td>\n",
       "      <td>NaN</td>\n",
       "      <td>NaN</td>\n",
       "      <td>NaN</td>\n",
       "      <td>0.000000e+00</td>\n",
       "      <td>2476051</td>\n",
       "    </tr>\n",
       "    <tr>\n",
       "      <th>933722</th>\n",
       "      <td>malchut</td>\n",
       "      <td>Malchut</td>\n",
       "      <td>Malchut</td>\n",
       "      <td>en</td>\n",
       "      <td>qs</td>\n",
       "      <td>NaN</td>\n",
       "      <td>0</td>\n",
       "      <td>0</td>\n",
       "      <td>NaN</td>\n",
       "      <td>NaN</td>\n",
       "      <td>NaN</td>\n",
       "      <td>NaN</td>\n",
       "      <td>0.000000e+00</td>\n",
       "      <td>2476052</td>\n",
       "    </tr>\n",
       "    <tr>\n",
       "      <th>2476052</th>\n",
       "      <td>chrisbernard</td>\n",
       "      <td>Kelvin Claxton</td>\n",
       "      <td>ChrisBernard</td>\n",
       "      <td>en</td>\n",
       "      <td>a</td>\n",
       "      <td>NaN</td>\n",
       "      <td>58836858</td>\n",
       "      <td>0</td>\n",
       "      <td>NaN</td>\n",
       "      <td>group3/getter/2021/10/02/06/2494297b-cee5-571f...</td>\n",
       "      <td>460.0</td>\n",
       "      <td>NaN</td>\n",
       "      <td>0.000000e+00</td>\n",
       "      <td>2476053</td>\n",
       "    </tr>\n",
       "  </tbody>\n",
       "</table>\n",
       "<p>2476053 rows × 14 columns</p>\n",
       "</div>"
      ],
      "text/plain": [
       "                 uname        nickname      ousername lang status  cm  \\\n",
       "1237588    julie_kelly     julie_kelly    julie_kelly   en      a NaN   \n",
       "2475887     kristinoem     Kristi Noem     KristiNoem   en      a NaN   \n",
       "2475937       biakicis       Bia Kicis       Biakicis   en      a NaN   \n",
       "1237543        azaudit   Arizona Audit        AZAudit   en     qs NaN   \n",
       "1237429  cristinalaila   CristinaLaila  CristinaLaila   en     qs NaN   \n",
       "...                ...             ...            ...  ...    ...  ..   \n",
       "933727        th8003th        th8003th       th8003th   en      a NaN   \n",
       "933724         freezed         freezed        freezed   en     qs NaN   \n",
       "933723        kporterg        kporterg       kporterg   en     qs NaN   \n",
       "933722         malchut         Malchut        Malchut   en     qs NaN   \n",
       "2476052   chrisbernard  Kelvin Claxton   ChrisBernard   en      a NaN   \n",
       "\n",
       "                flw  flg  infl  \\\n",
       "1237588   756000330    1   1.0   \n",
       "2475887  1811729701    3   1.0   \n",
       "2475937  2077271705    4   1.0   \n",
       "1237543   324731303    1   1.0   \n",
       "1237429   241212798    1   1.0   \n",
       "...             ...  ...   ...   \n",
       "933727            0    0   NaN   \n",
       "933724            0    0   NaN   \n",
       "933723            0    0   NaN   \n",
       "933722            0    0   NaN   \n",
       "2476052    58836858    0   NaN   \n",
       "\n",
       "                                                       ico   shbpst  lkbpst  \\\n",
       "1237588  group35/getter/2021/08/18/21/4c90e89b-11a3-059...   1137.0     NaN   \n",
       "2475887  group38/tw/2021/08/23/01/282d5e81-5a8f-af97-7e...   3316.0     NaN   \n",
       "2475937  group14/tw/2021/09/06/20/de8221f9-a843-7f0c-b2...  23275.0     NaN   \n",
       "1237543  group16/origin/2021/07/29/14/aaf2fa0f-015a-6a8...   1241.0     NaN   \n",
       "1237429  group37/origin/2021/08/30/17/ae2f4c7b-a906-28a...   1079.0     NaN   \n",
       "...                                                    ...      ...     ...   \n",
       "933727                                                 NaN      NaN     NaN   \n",
       "933724                                                 NaN      NaN     NaN   \n",
       "933723                                                 NaN      NaN     NaN   \n",
       "933722                                                 NaN      NaN     NaN   \n",
       "2476052  group3/getter/2021/10/02/06/2494297b-cee5-571f...    460.0     NaN   \n",
       "\n",
       "                score     rank  \n",
       "1237588  7.560003e+08        1  \n",
       "2475887  6.039099e+08        2  \n",
       "2475937  5.193179e+08        3  \n",
       "1237543  3.247313e+08        4  \n",
       "1237429  2.412128e+08        5  \n",
       "...               ...      ...  \n",
       "933727   0.000000e+00  2476049  \n",
       "933724   0.000000e+00  2476050  \n",
       "933723   0.000000e+00  2476051  \n",
       "933722   0.000000e+00  2476052  \n",
       "2476052  0.000000e+00  2476053  \n",
       "\n",
       "[2476053 rows x 14 columns]"
      ]
     },
     "execution_count": 10,
     "metadata": {},
     "output_type": "execute_result"
    }
   ],
   "source": [
    "users"
   ]
  },
  {
   "cell_type": "markdown",
   "id": "ab2eda7c",
   "metadata": {},
   "source": [
    "解决完冷启动问题, 以下准备从两个方向来做推荐:\n",
    "1. 基于item-based的用户推荐；\n",
    "2. 基于SVD矩阵分解的用户推荐；"
   ]
  },
  {
   "cell_type": "markdown",
   "id": "a85c4955",
   "metadata": {},
   "source": [
    "1. 基于item-based的用户推荐\n",
    "\n",
    "将用户看成要被推荐的物品, 建立各个用户之间的关注与被关注的关系, 形成一个矩阵图"
   ]
  },
  {
   "cell_type": "markdown",
   "id": "83da46c6",
   "metadata": {},
   "source": [
    "先过滤掉稀疏, 很少关注别人, 或很少被关注的用户, 过滤掉不活跃的用户;"
   ]
  },
  {
   "cell_type": "code",
   "execution_count": 11,
   "id": "4124b71d",
   "metadata": {
    "ExecuteTime": {
     "end_time": "2021-11-19T11:24:17.705367Z",
     "start_time": "2021-11-19T11:24:17.694320Z"
    }
   },
   "outputs": [],
   "source": [
    "# follows = follows[follows['uid'].str.contains('|'.join(activate['uid'])) | follows['fid'].str.contains('|'.join(activate['uid']))]"
   ]
  },
  {
   "cell_type": "markdown",
   "id": "daae3cd0",
   "metadata": {},
   "source": [
    "1. 对于新注册的用户, 也就是冷启动问题, 可以通过排行榜推荐\n",
    "2. 一旦用户有了关注列表, 下一次推荐就可以使用item-based的来推荐"
   ]
  },
  {
   "cell_type": "code",
   "execution_count": 12,
   "id": "14eaba8e",
   "metadata": {
    "ExecuteTime": {
     "end_time": "2021-11-19T11:24:17.874311Z",
     "start_time": "2021-11-19T11:24:17.706721Z"
    }
   },
   "outputs": [],
   "source": [
    "train_data, test_data = train_test_split(follows, test_size=0.1, random_state=0)"
   ]
  },
  {
   "cell_type": "markdown",
   "id": "d51f8b04",
   "metadata": {},
   "source": [
    "基于item-based具体的逻辑如下:\n",
    "\n",
    "1. 现有一个需要推荐的用户, 找到该用户已经关注的用户列表；\n",
    "2. 针对这已经关注的用户列表, 我们要找到与每个被关注的用户相似的用户推荐该用户；\n",
    "3. 这边衡量相似的用户, 使用的是jaccard集合相似度, 即每个被关注用户的用户列表与每个待推荐用户的用户列表的交集与并集之比, 该值越大, 该用户越与被关注用户相似, 也就越会被推荐；\n",
    "4. 得到针对每个被关注用户和待推荐用户列表的共现矩阵后, 需要计算每个待推荐用户的被推荐的可能性, 方法是每个被关注用户的jaccard值和的平均值即为待推荐用户的score；\n",
    "5. 得到每个待推荐用户的score后, 然后按照从高到底的顺序排序, 给到TOPN的推荐列表"
   ]
  },
  {
   "cell_type": "code",
   "execution_count": 13,
   "id": "23a6a59e",
   "metadata": {
    "ExecuteTime": {
     "end_time": "2021-11-19T11:24:17.950128Z",
     "start_time": "2021-11-19T11:24:17.875228Z"
    }
   },
   "outputs": [],
   "source": [
    "import Recommender as Recommenders\n",
    "is_model = Recommenders.item_similarity_recommender()\n",
    "is_model.create(follows, 'uid', 'fid')\n",
    "user_id = list(test_data.uid)[0]\n",
    "user_items = is_model.get_user_items(user_id)"
   ]
  },
  {
   "cell_type": "code",
   "execution_count": 14,
   "id": "03aaee5d",
   "metadata": {
    "ExecuteTime": {
     "end_time": "2021-11-19T11:25:23.078687Z",
     "start_time": "2021-11-19T11:24:17.950929Z"
    }
   },
   "outputs": [
    {
     "data": {
      "text/html": [
       "<div>\n",
       "<style scoped>\n",
       "    .dataframe tbody tr th:only-of-type {\n",
       "        vertical-align: middle;\n",
       "    }\n",
       "\n",
       "    .dataframe tbody tr th {\n",
       "        vertical-align: top;\n",
       "    }\n",
       "\n",
       "    .dataframe thead th {\n",
       "        text-align: right;\n",
       "    }\n",
       "</style>\n",
       "<table border=\"1\" class=\"dataframe\">\n",
       "  <thead>\n",
       "    <tr style=\"text-align: right;\">\n",
       "      <th></th>\n",
       "      <th>uid</th>\n",
       "      <th>fid</th>\n",
       "      <th>score</th>\n",
       "      <th>rank</th>\n",
       "    </tr>\n",
       "  </thead>\n",
       "  <tbody>\n",
       "    <tr>\n",
       "      <th>0</th>\n",
       "      <td>grykon</td>\n",
       "      <td>sharonday5</td>\n",
       "      <td>0.009804</td>\n",
       "      <td>1</td>\n",
       "    </tr>\n",
       "    <tr>\n",
       "      <th>1</th>\n",
       "      <td>grykon</td>\n",
       "      <td>david_lane</td>\n",
       "      <td>0.008772</td>\n",
       "      <td>2</td>\n",
       "    </tr>\n",
       "    <tr>\n",
       "      <th>2</th>\n",
       "      <td>grykon</td>\n",
       "      <td>stuartrgause</td>\n",
       "      <td>0.006944</td>\n",
       "      <td>3</td>\n",
       "    </tr>\n",
       "    <tr>\n",
       "      <th>3</th>\n",
       "      <td>grykon</td>\n",
       "      <td>estellp</td>\n",
       "      <td>0.004505</td>\n",
       "      <td>4</td>\n",
       "    </tr>\n",
       "    <tr>\n",
       "      <th>4</th>\n",
       "      <td>grykon</td>\n",
       "      <td>jonnywo</td>\n",
       "      <td>0.004505</td>\n",
       "      <td>5</td>\n",
       "    </tr>\n",
       "    <tr>\n",
       "      <th>5</th>\n",
       "      <td>grykon</td>\n",
       "      <td>debmoreno123</td>\n",
       "      <td>0.004505</td>\n",
       "      <td>6</td>\n",
       "    </tr>\n",
       "    <tr>\n",
       "      <th>6</th>\n",
       "      <td>grykon</td>\n",
       "      <td>rsanterre44</td>\n",
       "      <td>0.004274</td>\n",
       "      <td>7</td>\n",
       "    </tr>\n",
       "    <tr>\n",
       "      <th>7</th>\n",
       "      <td>grykon</td>\n",
       "      <td>geniesmith</td>\n",
       "      <td>0.003876</td>\n",
       "      <td>8</td>\n",
       "    </tr>\n",
       "    <tr>\n",
       "      <th>8</th>\n",
       "      <td>grykon</td>\n",
       "      <td>touli</td>\n",
       "      <td>0.003333</td>\n",
       "      <td>9</td>\n",
       "    </tr>\n",
       "    <tr>\n",
       "      <th>9</th>\n",
       "      <td>grykon</td>\n",
       "      <td>kimnak</td>\n",
       "      <td>0.003145</td>\n",
       "      <td>10</td>\n",
       "    </tr>\n",
       "  </tbody>\n",
       "</table>\n",
       "</div>"
      ],
      "text/plain": [
       "      uid           fid     score rank\n",
       "0  grykon    sharonday5  0.009804    1\n",
       "1  grykon    david_lane  0.008772    2\n",
       "2  grykon  stuartrgause  0.006944    3\n",
       "3  grykon       estellp  0.004505    4\n",
       "4  grykon       jonnywo  0.004505    5\n",
       "5  grykon  debmoreno123  0.004505    6\n",
       "6  grykon   rsanterre44  0.004274    7\n",
       "7  grykon    geniesmith  0.003876    8\n",
       "8  grykon         touli  0.003333    9\n",
       "9  grykon        kimnak  0.003145   10"
      ]
     },
     "execution_count": 14,
     "metadata": {},
     "output_type": "execute_result"
    }
   ],
   "source": [
    "is_model.recommend(user_id, 10)"
   ]
  },
  {
   "cell_type": "markdown",
   "id": "275cf542",
   "metadata": {},
   "source": [
    "推荐系统的评估指标有如下几种:\n",
    "\n",
    "1. 用户满意度\n",
    "2. 预测准确性\n",
    "3. 覆盖率\n",
    "4. 多样性\n",
    "5. 新颖性\n",
    "6. 惊喜度\n",
    "7. 信任度\n",
    "8. 实时性\n",
    "9. 健壮性\n",
    "10. 商业目标\n",
    "\n",
    "我们要做的就是最大化预测准确性, 使得覆盖率, 多样性, 新颖性大于某个预设的阈值.\n",
    "\n",
    "而在这里, 对于推荐关注用户的评估就简单地选择一预测准确性和覆盖率为度量标准, 其它指标相对该任务不是最重要的, 有些也不是很适合\n",
    "\n",
    "而对于预测准确性的度量, 可选择的有评分预测和TOPN推荐的召回和准确率\n",
    "\n",
    "1. 评分预测: 有RMSE和MAE, 用于验证推荐的准确性的, 但存在很明显的缺陷是我们的推荐不是单单是衡量推荐的, 都是用户follow的精度, 还需要考虑召回等\n",
    "2. TOPN推荐: 一般使用的是准确率和召回率, 也就是在推荐的N长列表中, 用户实际采纳的准确性和召回的情况\n",
    "\n",
    "覆盖率其中一种定义:\n",
    "\n",
    "为每个用户推荐的用户列表的并集 / 待推荐的用户列表"
   ]
  },
  {
   "cell_type": "code",
   "execution_count": 15,
   "id": "6d0759dc",
   "metadata": {
    "ExecuteTime": {
     "end_time": "2021-11-19T12:11:28.381240Z",
     "start_time": "2021-11-19T11:25:23.079876Z"
    }
   },
   "outputs": [],
   "source": [
    "test_dict = dict()\n",
    "for user_id in list(test_data.uid):\n",
    "    test_dict.update({user_id:is_model.get_user_items(user_id)})"
   ]
  },
  {
   "cell_type": "code",
   "execution_count": 16,
   "id": "5f9777d0",
   "metadata": {
    "ExecuteTime": {
     "end_time": "2021-11-19T12:11:28.386434Z",
     "start_time": "2021-11-19T12:11:28.383487Z"
    }
   },
   "outputs": [],
   "source": [
    "# test_list = ['jake7qa4', 'user1_qa4']\n",
    "# for user_id in test_list:\n",
    "#     test_dict.update({user_id:is_model.get_user_items(user_id)})"
   ]
  },
  {
   "cell_type": "markdown",
   "id": "8fe3face",
   "metadata": {},
   "source": [
    "待推荐的用户需要先获取到关注的用户列表, 然后根据这个用户列表来进行推荐, 按理来说, 越往后的推荐应该越准确"
   ]
  },
  {
   "cell_type": "code",
   "execution_count": 17,
   "id": "0a97c7f3",
   "metadata": {
    "ExecuteTime": {
     "end_time": "2021-11-19T12:11:28.410734Z",
     "start_time": "2021-11-19T12:11:28.387420Z"
    }
   },
   "outputs": [],
   "source": [
    "def PrecisionRecall(test, N):\n",
    "    hit = 0\n",
    "    n_recall = 0\n",
    "    n_precision = 0\n",
    "    for user, items in test.items():\n",
    "        rank = is_model.recommend(user, N)\n",
    "        hit += len(set(rank['fid']) & set(items))\n",
    "        n_recall += len(set(items))\n",
    "        n_precision += N\n",
    "    return hit / (1.0 * n_recall), hit / (1.0 * n_precision)"
   ]
  },
  {
   "cell_type": "code",
   "execution_count": 18,
   "id": "56c92e6c",
   "metadata": {
    "ExecuteTime": {
     "end_time": "2021-11-19T12:11:28.430911Z",
     "start_time": "2021-11-19T12:11:28.411834Z"
    }
   },
   "outputs": [],
   "source": [
    "def Coverage(test, N):\n",
    "    recomm_list = []\n",
    "    for user, items in test.items():\n",
    "        rank = is_model.recommend(user, N)\n",
    "        recomm_list.append(set(rank['fid']))\n",
    "    for n, recom_s in enumerate(recomm_list):\n",
    "        if n == 0:\n",
    "            temp = recom_s\n",
    "        else:\n",
    "            temp = temp.union(recom_s)\n",
    "\n",
    "    return len(temp) / len(is_model.get_all_items_train_data())"
   ]
  },
  {
   "cell_type": "code",
   "execution_count": null,
   "id": "1c691f34",
   "metadata": {
    "ExecuteTime": {
     "end_time": "2021-11-20T08:23:16.084287Z",
     "start_time": "2021-11-19T12:11:28.431700Z"
    }
   },
   "outputs": [],
   "source": [
    "recalls = []\n",
    "precisions = []\n",
    "coverages = []\n",
    "for n in range(10, 31, 10):\n",
    "    recall, precision = PrecisionRecall(test_dict, n)\n",
    "    coverage = Coverage(test_dict, n)\n",
    "    recalls.append(recall)\n",
    "    precisions.append(precision)\n",
    "    coverages.append(coverage)\n",
    "    \n",
    "final_recall, final_precision, final_coverage = sum(recalls) / len(range(10, 31, 10)), sum(precisions) / len(range(10, 31, 10)), sum(coverages) / len(range(10, 31, 10))"
   ]
  },
  {
   "cell_type": "code",
   "execution_count": null,
   "id": "ac685a1f",
   "metadata": {
    "ExecuteTime": {
     "end_time": "2021-11-20T08:23:16.107012Z",
     "start_time": "2021-11-20T08:23:16.107000Z"
    }
   },
   "outputs": [],
   "source": [
    "final_recall, final_precision, final_coverage"
   ]
  },
  {
   "cell_type": "markdown",
   "id": "a0de2233",
   "metadata": {},
   "source": [
    "2. 基于矩阵分解SVD的用户推荐\n",
    "\n",
    "基于相似度的推荐虽然比较简单, 但是对于用户比较多的时候, 计算时间就比较长, 因为每个推荐用户都需要遍历数据集, 故而现在普遍使用SVD来做基础的推荐\n",
    "\n",
    "矩阵分解, 顾名思义在这里是对每个关注用户的打分, 这边就以这个用户被关注量 / 用户总关注量作为该分值\n",
    "\n",
    "矩阵分解的思路是, 找到跟该推荐用户相似的用户所关注的对象, 根据相似度的排序进行用户的推荐\n",
    "\n",
    "这边推荐的用户默认是存在被他人关注关系的用户, 而对于没有任何人关注他的则不会被推荐"
   ]
  },
  {
   "cell_type": "code",
   "execution_count": 20,
   "id": "558e4fbe",
   "metadata": {
    "ExecuteTime": {
     "end_time": "2021-11-20T08:23:29.664041Z",
     "start_time": "2021-11-20T08:23:29.101913Z"
    }
   },
   "outputs": [],
   "source": [
    "uid_f_counts = pd.DataFrame(follows['uid'].value_counts())\n",
    "uid_f_counts.reset_index(inplace=True)\n",
    "uid_f_counts.columns = ['uid', 'uid_f_counts']\n",
    "uid_f_counts = dict(uid_f_counts.values)"
   ]
  },
  {
   "cell_type": "code",
   "execution_count": 21,
   "id": "53742876",
   "metadata": {
    "ExecuteTime": {
     "end_time": "2021-11-20T08:23:30.150452Z",
     "start_time": "2021-11-20T08:23:29.665402Z"
    }
   },
   "outputs": [],
   "source": [
    "fid_f_counts = pd.DataFrame(follows['fid'].value_counts())\n",
    "fid_f_counts.reset_index(inplace=True)\n",
    "fid_f_counts.columns = ['fid', 'fid_f_counts']\n",
    "fid_f_counts = dict(fid_f_counts.values)"
   ]
  },
  {
   "cell_type": "code",
   "execution_count": 22,
   "id": "4815e291",
   "metadata": {
    "ExecuteTime": {
     "end_time": "2021-11-20T08:46:04.457366Z",
     "start_time": "2021-11-20T08:23:30.151390Z"
    }
   },
   "outputs": [],
   "source": [
    "for i in follows.index:\n",
    "    follows.loc[i, 'fid_flw_count'] = fid_f_counts[follows.loc[i]['fid']]\n",
    "    follows.loc[i, 'uid_flg_count'] = uid_f_counts[follows.loc[i]['uid']]"
   ]
  },
  {
   "cell_type": "code",
   "execution_count": 23,
   "id": "8a125aba",
   "metadata": {
    "ExecuteTime": {
     "end_time": "2021-11-20T08:46:04.470184Z",
     "start_time": "2021-11-20T08:46:04.459242Z"
    }
   },
   "outputs": [],
   "source": [
    "follows['frac_f_count'] = follows['fid_flw_count'] / follows['uid_flg_count']"
   ]
  },
  {
   "cell_type": "markdown",
   "id": "5d172942",
   "metadata": {},
   "source": [
    "同样这里待推荐的用户也需要先有关注列表, 也就是不是新注册用户"
   ]
  },
  {
   "cell_type": "code",
   "execution_count": 24,
   "id": "ae1f2852",
   "metadata": {
    "ExecuteTime": {
     "end_time": "2021-11-20T08:46:06.727172Z",
     "start_time": "2021-11-20T08:46:04.470956Z"
    }
   },
   "outputs": [],
   "source": [
    "from scipy.sparse import coo_matrix\n",
    "\n",
    "small_set = follows\n",
    "uid_codes = small_set.uid.drop_duplicates().reset_index()\n",
    "fid_codes = small_set.fid.drop_duplicates().reset_index()\n",
    "uid_codes.rename(columns={'index':'uid_index'}, inplace=True)\n",
    "fid_codes.rename(columns={'index':'fid_index'}, inplace=True)\n",
    "uid_codes['u_index_value'] = list(uid_codes.index)\n",
    "fid_codes['f_index_value'] = list(fid_codes.index)\n",
    "small_set = pd.merge(small_set, uid_codes, how='left')\n",
    "small_set = pd.merge(small_set, fid_codes, how='left')\n",
    "mat_candidate = small_set[['u_index_value', 'f_index_value', 'frac_f_count']]\n",
    "data_array = mat_candidate.frac_f_count.values\n",
    "row_array = mat_candidate.u_index_value.values\n",
    "col_array = mat_candidate.f_index_value.values\n",
    "\n",
    "data_sparse = coo_matrix((data_array, (row_array, col_array)), dtype=float)"
   ]
  },
  {
   "cell_type": "code",
   "execution_count": 25,
   "id": "89b6b62a",
   "metadata": {
    "ExecuteTime": {
     "end_time": "2021-11-20T08:46:06.739101Z",
     "start_time": "2021-11-20T08:46:06.728067Z"
    }
   },
   "outputs": [
    {
     "data": {
      "text/plain": [
       "<182470x193109 sparse matrix of type '<class 'numpy.float64'>'\n",
       "\twith 500000 stored elements in COOrdinate format>"
      ]
     },
     "execution_count": 25,
     "metadata": {},
     "output_type": "execute_result"
    }
   ],
   "source": [
    "data_sparse"
   ]
  },
  {
   "cell_type": "code",
   "execution_count": 26,
   "id": "f40c9a03",
   "metadata": {
    "ExecuteTime": {
     "end_time": "2021-11-20T08:46:07.661617Z",
     "start_time": "2021-11-20T08:46:06.739941Z"
    }
   },
   "outputs": [
    {
     "data": {
      "text/plain": [
       "array([[0.5       , 0.        , 0.        , ..., 0.        , 0.        ,\n",
       "        0.        ],\n",
       "       [0.        , 1.        , 0.        , ..., 0.        , 0.        ,\n",
       "        0.        ],\n",
       "       [0.        , 0.        , 0.00714286, ..., 0.        , 0.        ,\n",
       "        0.        ],\n",
       "       ...,\n",
       "       [0.        , 0.        , 0.        , ..., 0.        , 0.        ,\n",
       "        0.        ],\n",
       "       [0.        , 0.        , 0.        , ..., 0.        , 0.        ,\n",
       "        0.        ],\n",
       "       [0.        , 0.        , 0.        , ..., 0.        , 0.        ,\n",
       "        0.        ]])"
      ]
     },
     "execution_count": 26,
     "metadata": {},
     "output_type": "execute_result"
    }
   ],
   "source": [
    "data_sparse.toarray()"
   ]
  },
  {
   "cell_type": "code",
   "execution_count": 27,
   "id": "158c0465",
   "metadata": {
    "ExecuteTime": {
     "end_time": "2021-11-20T08:46:07.669520Z",
     "start_time": "2021-11-20T08:46:07.662378Z"
    }
   },
   "outputs": [],
   "source": [
    "import math as mt\n",
    "from scipy.sparse.linalg import *\n",
    "from scipy.sparse.linalg import svds\n",
    "from scipy.sparse import csc_matrix"
   ]
  },
  {
   "cell_type": "code",
   "execution_count": 28,
   "id": "04855e0c",
   "metadata": {
    "ExecuteTime": {
     "end_time": "2021-11-20T08:46:07.683317Z",
     "start_time": "2021-11-20T08:46:07.670373Z"
    }
   },
   "outputs": [],
   "source": [
    "def compute_svd(urm, K):\n",
    "    U, s, Vt = svds(urm, K)\n",
    "\n",
    "    dim = (len(s), len(s))\n",
    "    S = np.zeros(dim, dtype=np.float32)\n",
    "    for i in range(0, len(s)):\n",
    "        S[i,i] = mt.sqrt(s[i])\n",
    "\n",
    "    U = csc_matrix(U, dtype=np.float32)\n",
    "    S = csc_matrix(S, dtype=np.float32)\n",
    "    Vt = csc_matrix(Vt, dtype=np.float32)\n",
    "    \n",
    "    return U, S, Vt\n",
    "\n",
    "def compute_estimated_matrix(urm, U, S, Vt, uTest, N):\n",
    "    rightTerm = S * Vt\n",
    "    max_recommendation = N # N <= urm.shape[1]\n",
    "    estimatedRatings = np.zeros(shape=(urm.shape[0], urm.shape[1]), dtype=np.float16)\n",
    "    recomendRatings = np.zeros(shape=(urm.shape[0], max_recommendation), dtype=np.float16)\n",
    "    for userTest in uTest:\n",
    "        prod = U[userTest, :] * rightTerm\n",
    "        estimatedRatings[userTest, :] = prod.todense()\n",
    "        recomendRatings[userTest, :] = (estimatedRatings[userTest, :]).argsort()[:max_recommendation]\n",
    "    return recomendRatings"
   ]
  },
  {
   "cell_type": "code",
   "execution_count": 35,
   "id": "025818d4",
   "metadata": {
    "ExecuteTime": {
     "end_time": "2021-11-20T09:00:05.554998Z",
     "start_time": "2021-11-20T09:00:05.545576Z"
    }
   },
   "outputs": [
    {
     "data": {
      "text/html": [
       "<div>\n",
       "<style scoped>\n",
       "    .dataframe tbody tr th:only-of-type {\n",
       "        vertical-align: middle;\n",
       "    }\n",
       "\n",
       "    .dataframe tbody tr th {\n",
       "        vertical-align: top;\n",
       "    }\n",
       "\n",
       "    .dataframe thead th {\n",
       "        text-align: right;\n",
       "    }\n",
       "</style>\n",
       "<table border=\"1\" class=\"dataframe\">\n",
       "  <thead>\n",
       "    <tr style=\"text-align: right;\">\n",
       "      <th></th>\n",
       "      <th>uid</th>\n",
       "      <th>fid</th>\n",
       "      <th>rank</th>\n",
       "      <th>fid_flw_count</th>\n",
       "      <th>uid_flg_count</th>\n",
       "      <th>frac_f_count</th>\n",
       "      <th>uid_index</th>\n",
       "      <th>u_index_value</th>\n",
       "      <th>fid_index</th>\n",
       "      <th>f_index_value</th>\n",
       "    </tr>\n",
       "  </thead>\n",
       "  <tbody>\n",
       "    <tr>\n",
       "      <th>0</th>\n",
       "      <td>susanthompsonw4</td>\n",
       "      <td>bobbielangford</td>\n",
       "      <td>1.0</td>\n",
       "      <td>1.0</td>\n",
       "      <td>2.0</td>\n",
       "      <td>0.500000</td>\n",
       "      <td>6612435</td>\n",
       "      <td>0</td>\n",
       "      <td>6612435</td>\n",
       "      <td>0</td>\n",
       "    </tr>\n",
       "    <tr>\n",
       "      <th>1</th>\n",
       "      <td>lauracampbell20</td>\n",
       "      <td>cncdave</td>\n",
       "      <td>1.0</td>\n",
       "      <td>1.0</td>\n",
       "      <td>1.0</td>\n",
       "      <td>1.000000</td>\n",
       "      <td>9582650</td>\n",
       "      <td>1</td>\n",
       "      <td>9582650</td>\n",
       "      <td>1</td>\n",
       "    </tr>\n",
       "    <tr>\n",
       "      <th>2</th>\n",
       "      <td>fearlessnorm</td>\n",
       "      <td>iceberg2024</td>\n",
       "      <td>1.0</td>\n",
       "      <td>1.0</td>\n",
       "      <td>140.0</td>\n",
       "      <td>0.007143</td>\n",
       "      <td>5969422</td>\n",
       "      <td>2</td>\n",
       "      <td>5969422</td>\n",
       "      <td>2</td>\n",
       "    </tr>\n",
       "    <tr>\n",
       "      <th>3</th>\n",
       "      <td>lenastanley</td>\n",
       "      <td>pitdiesel</td>\n",
       "      <td>1.0</td>\n",
       "      <td>3.0</td>\n",
       "      <td>35.0</td>\n",
       "      <td>0.085714</td>\n",
       "      <td>2830816</td>\n",
       "      <td>3</td>\n",
       "      <td>2830816</td>\n",
       "      <td>3</td>\n",
       "    </tr>\n",
       "    <tr>\n",
       "      <th>4</th>\n",
       "      <td>afonsocg</td>\n",
       "      <td>carlazambelli</td>\n",
       "      <td>1.0</td>\n",
       "      <td>691.0</td>\n",
       "      <td>1.0</td>\n",
       "      <td>691.000000</td>\n",
       "      <td>3420045</td>\n",
       "      <td>4</td>\n",
       "      <td>3420045</td>\n",
       "      <td>4</td>\n",
       "    </tr>\n",
       "    <tr>\n",
       "      <th>...</th>\n",
       "      <td>...</td>\n",
       "      <td>...</td>\n",
       "      <td>...</td>\n",
       "      <td>...</td>\n",
       "      <td>...</td>\n",
       "      <td>...</td>\n",
       "      <td>...</td>\n",
       "      <td>...</td>\n",
       "      <td>...</td>\n",
       "      <td>...</td>\n",
       "    </tr>\n",
       "    <tr>\n",
       "      <th>499995</th>\n",
       "      <td>doyleweaver</td>\n",
       "      <td>blazeerb</td>\n",
       "      <td>1.0</td>\n",
       "      <td>1.0</td>\n",
       "      <td>314.0</td>\n",
       "      <td>0.003185</td>\n",
       "      <td>285538</td>\n",
       "      <td>1751</td>\n",
       "      <td>285336</td>\n",
       "      <td>193108</td>\n",
       "    </tr>\n",
       "    <tr>\n",
       "      <th>499996</th>\n",
       "      <td>starblazer</td>\n",
       "      <td>desertrose_az</td>\n",
       "      <td>1.0</td>\n",
       "      <td>7.0</td>\n",
       "      <td>34.0</td>\n",
       "      <td>0.205882</td>\n",
       "      <td>5466897</td>\n",
       "      <td>3800</td>\n",
       "      <td>5239879</td>\n",
       "      <td>5306</td>\n",
       "    </tr>\n",
       "    <tr>\n",
       "      <th>499997</th>\n",
       "      <td>lisa7259</td>\n",
       "      <td>newsmax</td>\n",
       "      <td>1.0</td>\n",
       "      <td>3065.0</td>\n",
       "      <td>1.0</td>\n",
       "      <td>3065.000000</td>\n",
       "      <td>6236731</td>\n",
       "      <td>182468</td>\n",
       "      <td>6734670</td>\n",
       "      <td>31</td>\n",
       "    </tr>\n",
       "    <tr>\n",
       "      <th>499998</th>\n",
       "      <td>gabrielagcs30</td>\n",
       "      <td>realpfigueiredo</td>\n",
       "      <td>1.0</td>\n",
       "      <td>294.0</td>\n",
       "      <td>1.0</td>\n",
       "      <td>294.000000</td>\n",
       "      <td>4870315</td>\n",
       "      <td>182469</td>\n",
       "      <td>2769555</td>\n",
       "      <td>4122</td>\n",
       "    </tr>\n",
       "    <tr>\n",
       "      <th>499999</th>\n",
       "      <td>patriotpalmer</td>\n",
       "      <td>bencordero</td>\n",
       "      <td>1.0</td>\n",
       "      <td>7.0</td>\n",
       "      <td>7.0</td>\n",
       "      <td>1.000000</td>\n",
       "      <td>6421933</td>\n",
       "      <td>103836</td>\n",
       "      <td>8522281</td>\n",
       "      <td>39427</td>\n",
       "    </tr>\n",
       "  </tbody>\n",
       "</table>\n",
       "<p>500000 rows × 10 columns</p>\n",
       "</div>"
      ],
      "text/plain": [
       "                    uid              fid  rank  fid_flw_count  uid_flg_count  \\\n",
       "0       susanthompsonw4   bobbielangford   1.0            1.0            2.0   \n",
       "1       lauracampbell20          cncdave   1.0            1.0            1.0   \n",
       "2          fearlessnorm      iceberg2024   1.0            1.0          140.0   \n",
       "3           lenastanley        pitdiesel   1.0            3.0           35.0   \n",
       "4              afonsocg    carlazambelli   1.0          691.0            1.0   \n",
       "...                 ...              ...   ...            ...            ...   \n",
       "499995      doyleweaver         blazeerb   1.0            1.0          314.0   \n",
       "499996       starblazer    desertrose_az   1.0            7.0           34.0   \n",
       "499997         lisa7259          newsmax   1.0         3065.0            1.0   \n",
       "499998    gabrielagcs30  realpfigueiredo   1.0          294.0            1.0   \n",
       "499999    patriotpalmer       bencordero   1.0            7.0            7.0   \n",
       "\n",
       "        frac_f_count  uid_index  u_index_value  fid_index  f_index_value  \n",
       "0           0.500000    6612435              0    6612435              0  \n",
       "1           1.000000    9582650              1    9582650              1  \n",
       "2           0.007143    5969422              2    5969422              2  \n",
       "3           0.085714    2830816              3    2830816              3  \n",
       "4         691.000000    3420045              4    3420045              4  \n",
       "...              ...        ...            ...        ...            ...  \n",
       "499995      0.003185     285538           1751     285336         193108  \n",
       "499996      0.205882    5466897           3800    5239879           5306  \n",
       "499997   3065.000000    6236731         182468    6734670             31  \n",
       "499998    294.000000    4870315         182469    2769555           4122  \n",
       "499999      1.000000    6421933         103836    8522281          39427  \n",
       "\n",
       "[500000 rows x 10 columns]"
      ]
     },
     "execution_count": 35,
     "metadata": {},
     "output_type": "execute_result"
    }
   ],
   "source": [
    "small_set"
   ]
  },
  {
   "cell_type": "code",
   "execution_count": 29,
   "id": "2263dda3",
   "metadata": {
    "ExecuteTime": {
     "end_time": "2021-11-20T08:46:32.916947Z",
     "start_time": "2021-11-20T08:46:07.685330Z"
    }
   },
   "outputs": [],
   "source": [
    "K=100\n",
    "urm = data_sparse\n",
    "\n",
    "U, S, Vt = compute_svd(urm, K)"
   ]
  },
  {
   "cell_type": "code",
   "execution_count": 36,
   "id": "c4a79181",
   "metadata": {
    "ExecuteTime": {
     "end_time": "2021-11-20T09:00:32.924863Z",
     "start_time": "2021-11-20T09:00:32.504246Z"
    }
   },
   "outputs": [],
   "source": [
    "uTest = [182468]\n",
    "\n",
    "uTest_recommended_items = compute_estimated_matrix(urm, U, S, Vt, uTest, 4)"
   ]
  },
  {
   "cell_type": "code",
   "execution_count": 38,
   "id": "0a57ec9b",
   "metadata": {
    "ExecuteTime": {
     "end_time": "2021-11-20T09:01:13.810816Z",
     "start_time": "2021-11-20T09:01:13.797895Z"
    }
   },
   "outputs": [
    {
     "name": "stdout",
     "output_type": "stream",
     "text": [
      "Recommendation for user with user id 182468\n",
      "The number 1 recommended user is mtg4america\n",
      "The number 2 recommended user is robcarsonshow\n",
      "The number 3 recommended user is aliancabrasil\n",
      "The number 4 recommended user is lucky100301\n"
     ]
    }
   ],
   "source": [
    "for user in uTest:\n",
    "    print(\"Recommendation for user with user id {}\".format(user))\n",
    "    rank_value = 1\n",
    "    for i in uTest_recommended_items[user, :]:\n",
    "        fid_details = pd.DataFrame(small_set[small_set.u_index_value == i].drop_duplicates('u_index_value')['fid'], columns=['fid'])\n",
    "        print(\"The number {} recommended user is {}\".format(rank_value, list(fid_details['fid'])[0]))\n",
    "        rank_value += 1"
   ]
  },
  {
   "cell_type": "code",
   "execution_count": 39,
   "id": "1ad2aa2a",
   "metadata": {
    "ExecuteTime": {
     "end_time": "2021-11-20T09:01:14.249137Z",
     "start_time": "2021-11-20T09:01:13.811848Z"
    }
   },
   "outputs": [],
   "source": [
    "train_data, test_data = train_test_split(small_set, test_size=0.1, random_state=0)"
   ]
  },
  {
   "cell_type": "code",
   "execution_count": 40,
   "id": "86459b52",
   "metadata": {
    "ExecuteTime": {
     "end_time": "2021-11-20T09:45:07.451414Z",
     "start_time": "2021-11-20T09:01:14.249931Z"
    }
   },
   "outputs": [],
   "source": [
    "test_dict = dict()\n",
    "for user_id in list(test_data.uid):\n",
    "    test_dict.update({user_id:is_model.get_user_items(user_id)})"
   ]
  },
  {
   "cell_type": "code",
   "execution_count": 41,
   "id": "89dcd65a",
   "metadata": {
    "ExecuteTime": {
     "end_time": "2021-11-20T09:45:07.461732Z",
     "start_time": "2021-11-20T09:45:07.454554Z"
    }
   },
   "outputs": [],
   "source": [
    "def PrecisionRecall(test, small_set, urm, U, S, Vt, uTest, N):\n",
    "    hit = 0\n",
    "    n_recall = 0\n",
    "    n_precision = 0\n",
    "\n",
    "    uTest_recommended_items = compute_estimated_matrix(urm, U, S, Vt, uTest, N)\n",
    "    for user, items in zip(uTest, test.values()):\n",
    "        recom_list = []\n",
    "        for i in uTest_recommended_items[user, :]:\n",
    "            recom_list.append(small_set[small_set.u_index_value == i].drop_duplicates('u_index_value')['fid'].values[0])\n",
    "        hit += len(set(recom_list) & set(items))\n",
    "        n_recall += len(set(items))\n",
    "        n_precision += N\n",
    "    return hit / (1.0 * n_recall), hit / (1.0 * n_precision)"
   ]
  },
  {
   "cell_type": "code",
   "execution_count": 42,
   "id": "5aeee54a",
   "metadata": {
    "ExecuteTime": {
     "end_time": "2021-11-20T09:45:07.478407Z",
     "start_time": "2021-11-20T09:45:07.462394Z"
    }
   },
   "outputs": [],
   "source": [
    "def Coverage(test, urm, U, S, Vt, uTest, N):\n",
    "    uTest_recommended_items = compute_estimated_matrix(urm, U, S, Vt, uTest, N)\n",
    "    recom_lists = []\n",
    "    for user in uTest:\n",
    "        recom_list = []\n",
    "        for i in uTest_recommended_items[user, :]:\n",
    "            recom_list.append(small_set[small_set.u_index_value == i].drop_duplicates('u_index_value')['fid'].values[0])\n",
    "        recom_lists.append(set(recom_list))\n",
    "        \n",
    "    for n, recom_s in enumerate(recom_lists):\n",
    "        if n == 0:\n",
    "            temp = recom_s\n",
    "        else:\n",
    "            temp = temp.union(recom_s)\n",
    "\n",
    "    return len(temp) / len(is_model.get_all_items_train_data())"
   ]
  },
  {
   "cell_type": "code",
   "execution_count": 43,
   "id": "2ef0268a",
   "metadata": {
    "ExecuteTime": {
     "end_time": "2021-11-20T09:45:07.502410Z",
     "start_time": "2021-11-20T09:45:07.479275Z"
    }
   },
   "outputs": [],
   "source": [
    "uTest = test_data['u_index_value'].tolist()"
   ]
  },
  {
   "cell_type": "code",
   "execution_count": null,
   "id": "093d85bb",
   "metadata": {
    "ExecuteTime": {
     "end_time": "2021-11-20T11:52:39.551091Z",
     "start_time": "2021-11-20T09:45:07.503216Z"
    }
   },
   "outputs": [],
   "source": [
    "recalls = []\n",
    "precisions = []\n",
    "coverages = []\n",
    "for n in range(10, 31, 10):\n",
    "    recall, precision = PrecisionRecall(test_dict, small_set, urm, U, S, Vt, uTest, n)\n",
    "    coverage = Coverage(test_dict, urm, U, S, Vt, uTest, n)\n",
    "    recalls.append(recall)\n",
    "    precisions.append(precision)\n",
    "    coverages.append(coverage)\n",
    "    \n",
    "final_recall, final_precision, final_coverage = sum(recalls) / len(range(10, 31, 10)), sum(precisions) / len(range(10, 31, 10)), sum(coverages) / len(range(10, 31, 10))"
   ]
  },
  {
   "cell_type": "code",
   "execution_count": null,
   "id": "069d7162",
   "metadata": {
    "ExecuteTime": {
     "end_time": "2021-11-20T11:52:39.572099Z",
     "start_time": "2021-11-20T11:52:39.572087Z"
    }
   },
   "outputs": [],
   "source": [
    "final_recall, final_precision, final_coverage"
   ]
  },
  {
   "cell_type": "code",
   "execution_count": 45,
   "id": "8f3711f7",
   "metadata": {
    "ExecuteTime": {
     "end_time": "2021-11-20T11:59:50.610097Z",
     "start_time": "2021-11-20T11:59:41.972725Z"
    }
   },
   "outputs": [],
   "source": [
    "import recmetrics\n",
    "from surprise import Reader, SVD, Dataset\n",
    "from surprise.model_selection import train_test_split"
   ]
  },
  {
   "cell_type": "code",
   "execution_count": 46,
   "id": "67fe7641",
   "metadata": {
    "ExecuteTime": {
     "end_time": "2021-11-20T11:59:52.692699Z",
     "start_time": "2021-11-20T11:59:50.611214Z"
    }
   },
   "outputs": [],
   "source": [
    "reader = Reader(rating_scale=(0, int(small_set['frac_f_count'].max()) + 1))\n",
    "data = Dataset.load_from_df(small_set[['u_index_value', 'f_index_value', 'frac_f_count']], reader)\n",
    "trainset, testset = train_test_split(data, test_size=0.25)"
   ]
  },
  {
   "cell_type": "code",
   "execution_count": 47,
   "id": "1a92559f",
   "metadata": {
    "ExecuteTime": {
     "end_time": "2021-11-20T12:00:07.969808Z",
     "start_time": "2021-11-20T11:59:52.693554Z"
    }
   },
   "outputs": [
    {
     "data": {
      "text/plain": [
       "<surprise.prediction_algorithms.matrix_factorization.SVD at 0x7faa64294f70>"
      ]
     },
     "execution_count": 47,
     "metadata": {},
     "output_type": "execute_result"
    }
   ],
   "source": [
    "algo = SVD()\n",
    "algo.fit(trainset)"
   ]
  },
  {
   "cell_type": "code",
   "execution_count": 48,
   "id": "a6c03cc3",
   "metadata": {
    "ExecuteTime": {
     "end_time": "2021-11-20T12:00:08.974249Z",
     "start_time": "2021-11-20T12:00:07.970955Z"
    }
   },
   "outputs": [],
   "source": [
    "test = algo.test(testset)\n",
    "test = pd.DataFrame(test)\n",
    "test.drop(\"details\", inplace=True, axis=1)\n",
    "test.columns = ['uid', 'fid', 'actual', 'predictions']"
   ]
  },
  {
   "cell_type": "code",
   "execution_count": 49,
   "id": "814fd0e9",
   "metadata": {
    "ExecuteTime": {
     "end_time": "2021-11-20T12:00:08.993974Z",
     "start_time": "2021-11-20T12:00:08.975462Z"
    }
   },
   "outputs": [
    {
     "name": "stdout",
     "output_type": "stream",
     "text": [
      "8780576.314148713\n",
      "2963.203724712277\n"
     ]
    }
   ],
   "source": [
    "print(recmetrics.mse(test.actual, test.predictions))\n",
    "print(recmetrics.rmse(test.actual, test.predictions))"
   ]
  },
  {
   "cell_type": "code",
   "execution_count": 50,
   "id": "771c13f2",
   "metadata": {
    "ExecuteTime": {
     "end_time": "2021-11-20T12:00:09.046036Z",
     "start_time": "2021-11-20T12:00:08.994793Z"
    }
   },
   "outputs": [],
   "source": [
    "cf_model = test.groupby(['uid', 'fid'])['predictions'].max().to_frame()"
   ]
  },
  {
   "cell_type": "code",
   "execution_count": 51,
   "id": "7c2a8d26",
   "metadata": {
    "ExecuteTime": {
     "end_time": "2021-11-20T12:00:09.048717Z",
     "start_time": "2021-11-20T12:00:09.046921Z"
    }
   },
   "outputs": [],
   "source": [
    "# cf_model = test.pivot_table(index='uid', columns='fid', values='predictions').fillna(0)"
   ]
  },
  {
   "cell_type": "code",
   "execution_count": 52,
   "id": "74d35cdc",
   "metadata": {
    "ExecuteTime": {
     "end_time": "2021-11-20T12:00:09.063485Z",
     "start_time": "2021-11-20T12:00:09.049912Z"
    }
   },
   "outputs": [],
   "source": [
    "def get_users_predictions(user_id, n, model):\n",
    "    recommended_items = pd.DataFrame(model.loc[user_id])\n",
    "    recommended_items.columns = [\"predicted_rating\"]\n",
    "    recommended_items = recommended_items.sort_values('predicted_rating', ascending=False)    \n",
    "    recommended_items = recommended_items.head(n)\n",
    "    return recommended_items.index.tolist()"
   ]
  },
  {
   "cell_type": "code",
   "execution_count": 53,
   "id": "6a90bed6",
   "metadata": {
    "ExecuteTime": {
     "end_time": "2021-11-20T12:00:09.080059Z",
     "start_time": "2021-11-20T12:00:09.064332Z"
    }
   },
   "outputs": [],
   "source": [
    "def PrecisionRecall(test, small_set, N, model):\n",
    "    hit = 0\n",
    "    n_recall = 0\n",
    "    n_precision = 0\n",
    "\n",
    "    for user_id in test['uid']:\n",
    "        preds = get_users_predictions(user_id, N, model)\n",
    "        actuals = small_set[small_set['u_index_value'] == user_id]['f_index_value'].tolist()\n",
    "        hit += len(set(preds) & set(actuals))\n",
    "        n_recall += len(set(actuals))\n",
    "        n_precision += N\n",
    "    return hit / (1.0 * n_recall), hit / (1.0 * n_precision)"
   ]
  },
  {
   "cell_type": "code",
   "execution_count": 54,
   "id": "89f98727",
   "metadata": {
    "ExecuteTime": {
     "end_time": "2021-11-20T12:00:09.092712Z",
     "start_time": "2021-11-20T12:00:09.081036Z"
    }
   },
   "outputs": [],
   "source": [
    "def Coverage(test, small_set, N, model):\n",
    "    recom_list = []\n",
    "    for user_id in test['uid']:\n",
    "        preds = get_users_predictions(user_id, N, model)\n",
    "        recom_list.append(set(preds))\n",
    "        \n",
    "    for n, recom_s in enumerate(recom_list):\n",
    "        if n == 0:\n",
    "            temp = recom_s\n",
    "        else:\n",
    "            temp = temp.union(recom_s)\n",
    "\n",
    "    return len(temp) / len(small_set['fid'].unique().tolist())"
   ]
  },
  {
   "cell_type": "code",
   "execution_count": 55,
   "id": "78a1063d",
   "metadata": {
    "ExecuteTime": {
     "end_time": "2021-11-20T12:27:48.803497Z",
     "start_time": "2021-11-20T12:00:09.093674Z"
    }
   },
   "outputs": [],
   "source": [
    "recalls = []\n",
    "precisions = []\n",
    "coverages = []\n",
    "for n in range(5, 31, 5):\n",
    "    recall, precision = PrecisionRecall(test, small_set, n, cf_model)\n",
    "    coverage = Coverage(test, small_set, n, cf_model)\n",
    "    recalls.append(recall)\n",
    "    precisions.append(precision)\n",
    "    coverages.append(coverage)\n",
    "    \n",
    "final_recall, final_precision, final_coverage = sum(recalls) / len(range(5, 31, 5)), sum(precisions) / len(range(5, 31, 5)), sum(coverages) / len(range(5, 31, 5))"
   ]
  },
  {
   "cell_type": "code",
   "execution_count": 56,
   "id": "883660dd",
   "metadata": {
    "ExecuteTime": {
     "end_time": "2021-11-20T12:27:48.806871Z",
     "start_time": "2021-11-20T12:27:48.804352Z"
    }
   },
   "outputs": [
    {
     "data": {
      "text/plain": [
       "(0.10202328910323744, 0.3658219333333333, 0.29677108092666143)"
      ]
     },
     "execution_count": 56,
     "metadata": {},
     "output_type": "execute_result"
    }
   ],
   "source": [
    "final_recall, final_precision, final_coverage"
   ]
  },
  {
   "cell_type": "markdown",
   "id": "158f2894",
   "metadata": {},
   "source": [
    "无论是item-based的, 还是svd, 其本质都是一样的, 都是找到待推荐用户关注的这部分用户相似用户的关注列表进行推荐"
   ]
  }
 ],
 "metadata": {
  "kernelspec": {
   "display_name": "Python 3 (ipykernel)",
   "language": "python",
   "name": "python3"
  },
  "language_info": {
   "codemirror_mode": {
    "name": "ipython",
    "version": 3
   },
   "file_extension": ".py",
   "mimetype": "text/x-python",
   "name": "python",
   "nbconvert_exporter": "python",
   "pygments_lexer": "ipython3",
   "version": "3.8.12"
  }
 },
 "nbformat": 4,
 "nbformat_minor": 5
}
